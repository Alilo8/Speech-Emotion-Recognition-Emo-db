! wget https://www.openslr.org/resources/115/bea_Amused.tar.gz

! wget https://www.openslr.org/resources/115/bea_Angry.tar.gz

! wget https://www.openslr.org/resources/115/bea_Disgusted.tar.gz

! wget https://www.openslr.org/resources/115/bea_Neutral.tar.gz

! wget https://www.openslr.org/resources/115/bea_Sleepy.tar.gz

! wget https://www.openslr.org/resources/115/jenie_Amused.tar.gz

! wget https://www.openslr.org/resources/115/jenie_Angry.tar.gz

! wget https://www.openslr.org/resources/115/jenie_Disgusted.tar.gz

! wget https://www.openslr.org/resources/115/jenie_Neutral.tar.gz

! wget https://www.openslr.org/resources/115/josh_Sleepy.tar.gz

! wget https://www.openslr.org/resources/115/josh_Amused.tar.gz

! wget https://www.openslr.org/resources/115/sam_Angry.tar.gz

! wget https://www.openslr.org/resources/115/sam_Disgusted.tar.gz

! wget https://www.openslr.org/resources/115/sam_Neutral.tar.gz

! wget https://www.openslr.org/resources/115/sam_Sleepy.tar.gz

! wget https://www.openslr.org/resources/115/jenie_Sleepy.tar.gz

! wget https://www.openslr.org/resources/115/josh_Neutral.tar.gz

! wget https://www.openslr.org/resources/115/sam_Amused.tar.gz

! mkdir Audio1 

! tar -xvzf bea_Amused.tar.gz -C Audio1
! tar -xvzf bea_Angry.tar.gz -C Audio1
! tar -xvzf bea_Disgusted.tar.gz -C Audio1
! tar -xvzf bea_Neutral.tar.gz -C Audio1
! tar -xvzf bea_Sleepy.tar.gz -C Audio1
! tar -xvzf jenie_Amused.tar.gz -C Audio1
! tar -xvzf jenie_Angry.tar.gz -C Audio1
! tar -xvzf jenie_Disgusted.tar.gz -C Audio1
! tar -xvzf jenie_Neutral.tar.gz -C Audio1
! tar -xvzf jenie_Sleepy.tar.gz -C Audio1
! tar -xvzf josh_Amused.tar.gz -C Audio1
! tar -xvzf josh_Neutral.tar.gz -C Audio1
! tar -xvzf josh_Sleepy.tar.gz -C Audio1
! tar -xvzf sam_Amused.tar.gz -C Audio1
! tar -xvzf sam_Angry.tar.gz -C Audio1
! tar -xvzf sam_Disgusted.tar.gz -C Audio1
! tar -xvzf sam_Neutral.tar.gz -C Audio1
! tar -xvzf sam_Sleepy.tar.gz -C Audio1


